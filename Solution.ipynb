{
 "cells": [
  {
   "cell_type": "markdown",
   "metadata": {},
   "source": [
    "# Задача"
   ]
  },
  {
   "cell_type": "markdown",
   "metadata": {},
   "source": [
    "   Допустим, на некоторой бирже можно торговать валюты A, B, C и D. Пусть мы также можем\n",
    "допускать любое отрицательное количество данных валют. В каждом из трех файлов (data1.csv, data2.csv, data3.csv) \n",
    "содержатся цены шести инструментов: AB, AC, AD, BC, BD и CD. На каждом тике можно покупать или продавать не более\n",
    "1 A для инструментов AB, AC, AD; не более 1 B для инструментов BC, BD; не более 1 C для инструмента CD.\n",
    "Комиссии для инструментов AB, AC, AD платятся в валюте А, комиссии для инструментов BC, BD платятся в валюте B, комиссия для инструмента CD платится в валюте С.\n",
    "\n",
    "Для примера рассмотрим инструмент AB. Допустим в некоторый момент цена AB равна 5\n",
    "и комиссия равна 0.1 процента. Это означает, что на каждом тике по указанной цене можно\n",
    "купить 1 А за 5 B и заплатить комиссию 0.001 A. Либо можно продать 1 А, получить за это 5\n",
    "B и заплатить комиссию 0.001 A.\n",
    "\n",
    "Задача. Предположим, что в начале и в конце торговли на нашем счету должно быть нулевое\n",
    "количество валют B, C и D. Желательно, чтобы в процессе торговли максиальная просадка\n",
    "были заметно меньше заработка.\n",
    "Предложить алгоритм, который позволит заработать как можно больше валюты А на предложенных данных, в предположении, что замена данных на статистически аналогичные не\n",
    "изменит результат работы алгоритма.\n",
    "Задачу предполагается сделать для двух случаев: комиссия равна нулю и комиссия равна 0.1\n",
    "проценту.\n",
    "\n",
    "Подсказка. Максимальный теоретический (статистически стабильный) профит для данных\n",
    "data1.csv равен (нулевые комиссии: 105 А, комиссия 0.1 процент: 52 А), для данных data2.csv\n",
    "равен (нулевые комиссии: 163 А, комиссия 0.1 процент: 81 А), для данных data3.csv не указан.\n",
    "Эти числа даны для ориентировки и могут быть достигнуты только если знать как именно\n",
    "были сгенерированы данные. Для реального алгоритма заработки будут меньше."
   ]
  },
  {
   "cell_type": "markdown",
   "metadata": {},
   "source": [
    "# Идея решения"
   ]
  },
  {
   "cell_type": "markdown",
   "metadata": {},
   "source": [
    "Рассмотрим для простоты случай с тремя валютами A , B и C.\n",
    "Эту тройку валют очевидно можно изобразить в виде графа с вершинами A , B и C. \n",
    "\n",
    "Запись типа A -> B -> C -> A (обход графа) будет означать что мы меняем некоторое количество валюты A на B, за тем B на С и вконце С на А.\n",
    "\n",
    "Для случая трёх валют есть всего 2 возможных обхода когда мы стартуем из вершины А и в неё же возвращаемся:\n",
    "1) A -> B -> C -> A\n",
    "2) A -> C -> B -> A\n",
    "Легко понять, что если один из 2х этих обходов убыточный (т.е. вконце получаем меньше валюты А чем вложили вначале), \n",
    "то второй гарантированно прибыльный.\n",
    "Таким образом, на каждом шаге торговли всегда будет один прибыльный вариант обхода и один убыточный (ну либо оба обхода будут иметь строго нулевую прибыль, что маловероятно). Выбирая прибыльный вариант, всегда будем в плюсе.\n",
    "\n",
    "Легко обобщить это рассуждение на случай 4х валют.\n",
    "На каждом тике есть 12 возможных обходов для каждой из 4 валют (вершин графа).\n",
    "Половина из них прибыльная.\n",
    "Ограничения на объёмы торговли на всех инстрементах очевидно накладывают ограничения на максимальные объёмы сделок.\n",
    "Например, пусть A -> B -> C -> A прибыльный обход. Мы можем купить не более 1A т.к. лимит на инструменте АС равен 1А. Далее учитывая лимит по интсрументу BC, мы можем купить некоторое количество C, но не превосходящее в эквиваленте 1А, и т.д. \n",
    "В итоге получим максимальное количество валюты А, которе можно продать по цепочке A -> B -> C -> A таким образом что остатки валют B, C будут нулевыми, т.е. для каждой цепочки существует максимальная безостаточная сделка.\n",
    "Более того, сделать прибыль таким образом можно для каждой из 4х валют.\n",
    "Например цепочка B -> C -> D -> B можеь быть прибыльной в валюте B. Затем прибыль в валюте B можно конвертировать в А.\n",
    "\n",
    "Итак, общая схема такая:\n",
    "\n",
    "На каждом тике\n",
    "\n",
    "0) Конвертируем валюты B, C и D, заработанные на предыдущем тике, в А  \n",
    "\n",
    "1) Составляем таблицу прибыльности всех возможных сделок в формате {path : V, P}, где path - путь обхода, V и P - объём и профит максимальной безостаточной сделки (с учётом лимитов по инструментов)\n",
    "\n",
    "2) Выбираем максимально профитную сделку из таблицы. При этом обновляются лимиты на всех инструментах, которые учавствовали в сделке (если профитной сделки в таблице нет (т.е. объёмы профитных сделок с учётом лимитов по инструментам стали равны нулю), то заканчиваем торги на текущем тике)\n",
    "\n",
    "3) Возвращаемся на шаг 1)\n"
   ]
  },
  {
   "cell_type": "markdown",
   "metadata": {},
   "source": [
    "# Код"
   ]
  },
  {
   "cell_type": "code",
   "execution_count": 168,
   "metadata": {
    "collapsed": true
   },
   "outputs": [],
   "source": [
    "import pandas as pd\n",
    "import numpy as np\n",
    "import matplotlib as mpl\n",
    "import matplotlib.pyplot as plt\n",
    "import seaborn as sns\n",
    "data = pd.read_csv(\"data3.csv\")\n",
    "\n",
    "price_AB = list(data['AB'])\n",
    "price_AC = list(data['AC'])\n",
    "price_AD = list(data['AD'])\n",
    "price_BC = list(data['BC'])\n",
    "price_BD = list(data['BD'])\n",
    "price_CD = list(data['CD'])\n"
   ]
  },
  {
   "cell_type": "code",
   "execution_count": 119,
   "metadata": {
    "collapsed": true
   },
   "outputs": [],
   "source": [
    "prices_table = np.zeros((4,4))\n",
    "limits_table = np.zeros((4,4))\n",
    "profit_table = np.zeros(4)"
   ]
  },
  {
   "cell_type": "code",
   "execution_count": 120,
   "metadata": {},
   "outputs": [
    {
     "data": {
      "text/plain": [
       "array([ 0.,  0.,  0.,  0.])"
      ]
     },
     "execution_count": 120,
     "metadata": {},
     "output_type": "execute_result"
    }
   ],
   "source": [
    "profit_table # тут будут хранитись балансы валют A, B, C и D на каждом тике"
   ]
  },
  {
   "cell_type": "code",
   "execution_count": 121,
   "metadata": {},
   "outputs": [
    {
     "data": {
      "text/plain": [
       "array([[ 0.,  0.,  0.,  0.],\n",
       "       [ 0.,  0.,  0.,  0.],\n",
       "       [ 0.,  0.,  0.,  0.],\n",
       "       [ 0.,  0.,  0.,  0.]])"
      ]
     },
     "execution_count": 121,
     "metadata": {},
     "output_type": "execute_result"
    }
   ],
   "source": [
    "prices_table # тут будут храниться цены покупки валюты Y за X \n",
    "             # (например: prices_table[0, 1] будет хранить цену в A для A -> B , \n",
    "             #  а prices_table[1, 0] будет хранить цену в B для B -> A)"
   ]
  },
  {
   "cell_type": "code",
   "execution_count": 122,
   "metadata": {},
   "outputs": [
    {
     "data": {
      "text/plain": [
       "array([[ 0.,  0.,  0.,  0.],\n",
       "       [ 0.,  0.,  0.,  0.],\n",
       "       [ 0.,  0.,  0.,  0.],\n",
       "       [ 0.,  0.,  0.,  0.]])"
      ]
     },
     "execution_count": 122,
     "metadata": {},
     "output_type": "execute_result"
    }
   ],
   "source": [
    "limits_table # тут будут храниться лимиты на сделки X -> Y\n",
    "             # (например: limits_table[0, 1] будет хранить лимит в A для A -> B , \n",
    "             # а limits_table[1, 0] будет хранить лимит в B для B -> A)"
   ]
  },
  {
   "cell_type": "code",
   "execution_count": 123,
   "metadata": {
    "collapsed": true
   },
   "outputs": [],
   "source": [
    "profit_deals = {} # таблица прибыльности сделок в формате {deal_path : <V, P>}, \n",
    "                  # где deal_path - путь по которому соверщается сделка (X - > .... -> X), \n",
    "                  # V - максимальный объём сделки в валюте X , P - профит в валюте A "
   ]
  },
  {
   "cell_type": "code",
   "execution_count": 124,
   "metadata": {
    "collapsed": true
   },
   "outputs": [],
   "source": [
    "# эта фунция посто обнуляет все значения объёмов и профитов в табоице profit_deals\n",
    "def reset_profit_table():\n",
    "    \n",
    "    # Все возможные обходы\n",
    "    profit_deals[tuple([0, 1, 2, 0])] = tuple([0,0])    # A - B - C - A\n",
    "    profit_deals[tuple([0, 2, 1, 0])] = tuple([0,0])    # A - C - B - A\n",
    "    profit_deals[tuple([0, 1, 3, 0])] = tuple([0,0])    # A - B - D - A\n",
    "    profit_deals[tuple([0, 3, 1, 0])] = tuple([0,0])    # A - D - B - A\n",
    "    profit_deals[tuple([0, 2, 3, 0])] = tuple([0,0])    # A - C - D - A\n",
    "    profit_deals[tuple([0, 3, 2, 0])] = tuple([0,0])    # A - D - C - A\n",
    "    profit_deals[tuple([0, 1, 2, 3, 0])] = tuple([0,0]) # A - B - C - D - A\n",
    "    profit_deals[tuple([0, 3, 2, 1, 0])] = tuple([0,0]) # A - D - C - B - A\n",
    "    profit_deals[tuple([0, 1, 3, 2, 0])] = tuple([0,0]) # A - B - D - C - A\n",
    "    profit_deals[tuple([0, 2, 3, 1, 0])] = tuple([0,0]) # A - C - D - B - A\n",
    "    profit_deals[tuple([0, 2, 1, 3, 0])] = tuple([0,0]) # A - C - B - D - A\n",
    "    profit_deals[tuple([0, 3, 1, 2, 0])] = tuple([0,0]) # A - D - B - C - A\n",
    "\n",
    "    profit_deals[tuple([1, 0, 2, 1])] = tuple([0,0])    # B - A - C - B\n",
    "    profit_deals[tuple([1, 2, 0, 1])] = tuple([0,0])    # B - C - A - B\n",
    "    profit_deals[tuple([1, 0, 3, 1])] = tuple([0,0])    # B - A - D - B\n",
    "    profit_deals[tuple([1, 3, 0, 1])] = tuple([0,0])    # B - D - A - B\n",
    "    profit_deals[tuple([1, 2, 3, 1])] = tuple([0,0])    # B - C - D - B\n",
    "    profit_deals[tuple([1, 3, 2, 1])] = tuple([0,0])    # B - D - C - B\n",
    "    profit_deals[tuple([1, 0, 2, 3, 1])] = tuple([0,0]) # B - A - C - D - B\n",
    "    profit_deals[tuple([1, 3, 2, 0, 1])] = tuple([0,0]) # B - D - C - A - B\n",
    "    profit_deals[tuple([1, 0, 3, 2, 1])] = tuple([0,0]) # B - A - D - C - B\n",
    "    profit_deals[tuple([1, 2, 3, 0, 1])] = tuple([0,0]) # B - C - D - A - B\n",
    "    profit_deals[tuple([1, 2, 0, 3, 1])] = tuple([0,0]) # B - C - A - D - B\n",
    "    profit_deals[tuple([1, 3, 0, 2, 1])] = tuple([0,0]) # B - D - A - C - B\n",
    "\n",
    "    profit_deals[tuple([2, 1, 0, 2])] = tuple([0,0])    # C - B - A - C\n",
    "    profit_deals[tuple([2, 0, 1, 2])] = tuple([0,0])    # C - A - B - C\n",
    "    profit_deals[tuple([2, 1, 3, 2])] = tuple([0,0])    # C - B - D - C\n",
    "    profit_deals[tuple([2, 3, 1, 2])] = tuple([0,0])    # C - D - B - C\n",
    "    profit_deals[tuple([2, 0, 3, 2])] = tuple([0,0])    # C - A - D - C\n",
    "    profit_deals[tuple([2, 3, 0, 2])] = tuple([0,0])    # C - D - A - C\n",
    "    profit_deals[tuple([2, 1, 0, 3, 2])] = tuple([0,0]) # C - B - A - D - C\n",
    "    profit_deals[tuple([2, 3, 0, 1, 2])] = tuple([0,0]) # C - D - A - B - C\n",
    "    profit_deals[tuple([2, 1, 3, 0, 2])] = tuple([0,0]) # C - B - D - A - C\n",
    "    profit_deals[tuple([2, 0, 3, 1, 2])] = tuple([0,0]) # C - A - D - B - C\n",
    "    profit_deals[tuple([2, 0, 1, 3, 2])] = tuple([0,0]) # C - A - B - D - C\n",
    "    profit_deals[tuple([2, 3, 1, 0, 2])] = tuple([0,0]) # C - D - B - A - C\n",
    "\n",
    "    profit_deals[tuple([3, 1, 2, 3])] = tuple([0,0])    # D - B - C - D\n",
    "    profit_deals[tuple([3, 2, 1, 3])] = tuple([0,0])    # D - C - B - D\n",
    "    profit_deals[tuple([3, 1, 0, 3])] = tuple([0,0])    # D - B - A - D\n",
    "    profit_deals[tuple([3, 0, 1, 3])] = tuple([0,0])    # D - A - B - D\n",
    "    profit_deals[tuple([3, 2, 0, 3])] = tuple([0,0])    # D - C - A - D\n",
    "    profit_deals[tuple([3, 0, 2, 3])] = tuple([0,0])    # D - A - C - D\n",
    "    profit_deals[tuple([3, 1, 2, 0, 3])] = tuple([0,0]) # D - B - C - A - D\n",
    "    profit_deals[tuple([3, 0, 2, 1, 3])] = tuple([0,0]) # D - A - C - B - D\n",
    "    profit_deals[tuple([3, 1, 0, 2, 3])] = tuple([0,0]) # D - B - A - C - D\n",
    "    profit_deals[tuple([3, 2, 0, 1, 3])] = tuple([0,0]) # D - C - A - B - D\n",
    "    profit_deals[tuple([3, 2, 1, 0, 3])] = tuple([0,0]) # D - C - B - A - D\n",
    "    profit_deals[tuple([3, 0, 1, 2, 3])] = tuple([0,0]) # D - A - B - C - D"
   ]
  },
  {
   "cell_type": "code",
   "execution_count": 125,
   "metadata": {
    "collapsed": true
   },
   "outputs": [],
   "source": [
    "# определяет цены и лимиты по всем сделкам\n",
    "def set_prices_limits():\n",
    "    \n",
    "    # setting up prices\n",
    "    prices_table[0, 0] = 1\n",
    "    prices_table[0, 1] = price_AB[t]\n",
    "    prices_table[0, 2] = price_AC[t]\n",
    "    prices_table[0, 3] = price_AD[t]\n",
    "    \n",
    "    prices_table[1, 0] = 1 / price_AB[t]\n",
    "    prices_table[1, 1] = 1 \n",
    "    prices_table[1, 2] = price_BC[t]\n",
    "    prices_table[1, 3] = price_BD[t]\n",
    "    \n",
    "    prices_table[2 ,0] = 1 / price_AC[t]\n",
    "    prices_table[2, 1] = 1 / price_BC[t] \n",
    "    prices_table[2, 2] = 1 \n",
    "    prices_table[2, 3] = price_CD[t]\n",
    "    \n",
    "    prices_table[3, 0] = 1 / price_AD[t]\n",
    "    prices_table[3, 1] = 1 / price_BD[t] \n",
    "    prices_table[3, 2] = 1 / price_CD[t] \n",
    "    prices_table[3, 3] = 1\n",
    "    \n",
    "    #setting up limits\n",
    "    limits_table[0, 0] = 0\n",
    "    limits_table[0, 1] = 1\n",
    "    limits_table[0, 2] = 1\n",
    "    limits_table[0, 3] = 1\n",
    "    \n",
    "    limits_table[1, 0] = limits_table[0, 1] *  prices_table[0, 1]\n",
    "    limits_table[1, 1] = 0\n",
    "    limits_table[1, 2] = 1\n",
    "    limits_table[1, 3] = 1\n",
    "    \n",
    "    limits_table[2, 0] = limits_table[0, 2] * prices_table[0, 2]\n",
    "    limits_table[2, 1] = limits_table[1, 2] * prices_table[1, 2]\n",
    "    limits_table[2, 2] = 0\n",
    "    limits_table[2, 3] = 1\n",
    "    \n",
    "    limits_table[3, 0] = limits_table[0, 3] * prices_table[0, 3]\n",
    "    limits_table[3, 1] = limits_table[1, 3] * prices_table[1, 3]\n",
    "    limits_table[3, 2] = limits_table[2, 3] * prices_table[2, 3]\n",
    "    limits_table[3, 3] = 0"
   ]
  },
  {
   "cell_type": "code",
   "execution_count": 126,
   "metadata": {
    "collapsed": true
   },
   "outputs": [],
   "source": [
    "# вычисляем максимальные объёмы и профиты сделок и сохраняем их в таблицу profit_deals\n",
    "def calc_profit_table():\n",
    "    \n",
    "    for path in profit_deals:\n",
    "        \n",
    "        path_list = list(path)\n",
    "        x_index = len(path_list) - 2 \n",
    "        y_index = len(path_list) - 1 \n",
    "        x = path_list[x_index] \n",
    "        y = path_list[y_index]\n",
    "\n",
    "        V = limits_table[x, y] \n",
    "        \n",
    "        while x_index > 0 :\n",
    "            x_index = x_index - 1\n",
    "            y_index = y_index - 1\n",
    "            x = path_list[x_index] \n",
    "            y = path_list[y_index]\n",
    "            V = max(min(V / prices_table[x, y] , limits_table[x, y]) , 0.0) \n",
    "        \n",
    "        if t >= len(price_AB)-3 and not x == 0:\n",
    "            V = 0.0\n",
    "        \n",
    "        if (V != 0):\n",
    "            P = V\n",
    "    \n",
    "            while y_index < len(path_list):\n",
    "                x = path_list[x_index] \n",
    "                y = path_list[y_index]\n",
    "                                    \n",
    "                P = P * prices_table[x, y] * (1 - commission) \n",
    "\n",
    "                x_index = x_index + 1\n",
    "                y_index = y_index + 1\n",
    "                 \n",
    "            P = (P - V) * prices_table[x, 0]\n",
    "            profit_deals[path] = tuple(list([V, P]))\n"
   ]
  },
  {
   "cell_type": "code",
   "execution_count": 127,
   "metadata": {
    "collapsed": true
   },
   "outputs": [],
   "source": [
    "# поиск оптимальной сделки в таблице profit_deals\n",
    "from operator import itemgetter\n",
    "def best_deal():\n",
    "    \n",
    "    k = list(profit_deals.keys())\n",
    "    v = list(profit_deals.values())\n",
    "    \n",
    "    if max(v, key = itemgetter(1))[1] > 1e-6:\n",
    "        return k[v.index(max(v, key = itemgetter(1)))]\n",
    "    else:\n",
    "        return None"
   ]
  },
  {
   "cell_type": "code",
   "execution_count": 128,
   "metadata": {
    "collapsed": true
   },
   "outputs": [],
   "source": [
    "# совершаем сделку (X -> .... -> X -> A)\n",
    "def make_deal(deal_path, deal_volume):\n",
    "    \n",
    "    i = 0\n",
    "    V = deal_volume\n",
    "    while i < len(deal_path) - 1:\n",
    "        x = deal_path[i]\n",
    "        y = deal_path[i+1]\n",
    "        \n",
    "        V = min(V, limits_table[x, y])\n",
    "        limits_table[x, y] = limits_table[x, y] - V\n",
    "        limits_table[y, x] = limits_table[x, y] * prices_table[x, y]\n",
    "        \n",
    "        profit_table[x] = profit_table[x] - V \n",
    "        V = V * prices_table[x, y] * (1 - commission)\n",
    "        profit_table[y] = profit_table[y] + V\n",
    "            \n",
    "        i = i + 1\n",
    "    \n",
    "    profit = V - deal_volume\n",
    "    if limits_table[y, 0] != 0:\n",
    "        p = min(profit, limits_table[y, 0])\n",
    "        profit_table[0] = profit_table[0] +  p * prices_table[y, 0] * (1 - commission)\n",
    "        profit_table[y] = profit_table[y] - p\n",
    "        limits_table[y, 0] = limits_table[y, 0] - p \n",
    "        limits_table[0, y] = limits_table[y, 0] * prices_table[y, 0] "
   ]
  },
  {
   "cell_type": "code",
   "execution_count": 156,
   "metadata": {},
   "outputs": [
    {
     "name": "stdout",
     "output_type": "stream",
     "text": [
      "Final balance: \n",
      "52.74\n",
      "0.0\n",
      "0.0\n",
      "0.0\n",
      "Unused limits:  [5037.9897533530902, 1575.8599921151638, 3405.4032820705593, 3156.4217349766759, 3907.5242798264358, 1685.228280784926]\n"
     ]
    }
   ],
   "source": [
    "# trading simulation\n",
    "prices_table = np.zeros((4,4))\n",
    "limits_table = np.zeros((4,4))\n",
    "profit_table = np.zeros(4)\n",
    "\n",
    "unused_limits = [0, 0, 0, 0, 0, 0]\n",
    "A = []\n",
    "t = 0\n",
    "commission = 0.00\n",
    "\n",
    "while (t < len(price_AB)):\n",
    "    \n",
    "    set_prices_limits()\n",
    "    reset_profit_table()\n",
    "    calc_profit_table()\n",
    "    best = best_deal()\n",
    "    \n",
    "    while best != None:\n",
    "        make_deal(best, profit_deals[best][0])\n",
    "        reset_profit_table()\n",
    "        calc_profit_table()\n",
    "        best = best_deal()\n",
    "    \n",
    "    # продаём избытки валют B, C, D\n",
    "    for x in range(1,4):\n",
    "        if profit_table[x] > 0.0 and limits_table[x, 0] > 0.0:\n",
    "            p = min(profit_table[x], limits_table[x, 0])\n",
    "            profit_table[0] = profit_table[0] +  p * prices_table[x, 0] * (1 - commission)\n",
    "            profit_table[x] = profit_table[x] - p\n",
    "            limits_table[x, 0] = limits_table[x, 0] - p \n",
    "            limits_table[0, x] = limits_table[x, 0] * prices_table[x, 0] \n",
    "    \n",
    "    A.append(profit_table[0])\n",
    "    unused_limits[0] = unused_limits[0] + limits_table[0,1]\n",
    "    unused_limits[1] = unused_limits[1] + limits_table[0,2]\n",
    "    unused_limits[2] = unused_limits[2] + limits_table[0,3]\n",
    "    unused_limits[3] = unused_limits[3] + limits_table[1,2]\n",
    "    unused_limits[4] = unused_limits[4] + limits_table[1,3]\n",
    "    unused_limits[5] = unused_limits[5] + limits_table[2,3]\n",
    "    t = t + 1\n",
    "    \n",
    "print(\"Final balance: \")\n",
    "print(round(profit_table[0], 2))\n",
    "print(round(profit_table[1], 2))\n",
    "print(round(profit_table[2], 2))\n",
    "print(round(profit_table[3], 2))\n",
    "print(\"Unused limits: \", unused_limits)"
   ]
  },
  {
   "cell_type": "code",
   "execution_count": null,
   "metadata": {
    "collapsed": true
   },
   "outputs": [],
   "source": []
  },
  {
   "cell_type": "code",
   "execution_count": 157,
   "metadata": {},
   "outputs": [],
   "source": [
    "A3 = A"
   ]
  },
  {
   "cell_type": "markdown",
   "metadata": {},
   "source": [
    "# Результат"
   ]
  },
  {
   "cell_type": "code",
   "execution_count": 159,
   "metadata": {},
   "outputs": [
    {
     "data": {
      "image/png": "[encoded data removed]",
      "text/plain": [
       "<matplotlib.figure.Figure at 0x17c7cecbc50>"
      ]
     },
     "metadata": {},
     "output_type": "display_data"
    }
   ],
   "source": [
    "# plot results \n",
    "sns.set_style(\"darkgrid\")\n",
    "plt.figure(figsize=(12,9))\n",
    "plt.plot(range(0, 10000), A1[0:10000], color = 'darkred',   label = 'data_1, no commission')\n",
    "plt.plot(range(0, 10000), A2[0:10000], color = 'darkblue',  label = 'data_2, no commission')\n",
    "plt.plot(range(0, 10000), A3[0:10000], color = 'darkgreen', label = 'data_3, no commission')\n",
    "plt.plot(range(0, 10000), A1_commission[0:10000], color = 'red',   label = 'data_1, 0.1% commission', alpha = 0.5)\n",
    "plt.plot(range(0, 10000), A2_commission[0:10000], color = 'blue',  label = 'data_2, 0.1% commission', alpha = 0.5)\n",
    "plt.plot(range(0, 10000), A3_commission[0:10000], color = 'green', label = 'data_3, 0.1% commission', alpha = 0.5)\n",
    "plt.legend(ncol=2, loc = 'upper left')\n",
    "plt.xlabel(\"Tick\")\n",
    "plt.ylabel(\"Profit [A]\")\n",
    "plt.show()"
   ]
  },
  {
   "cell_type": "markdown",
   "metadata": {},
   "source": [
    "В результате получаем прибыли:\n",
    "    \n",
    "    на данных data1 - 53 без комиссии и 19 с комиссией\n",
    "    на данных data2 - 71 без комиссии и 25 с комиссией\n",
    "    на данных data3 - 53 без комиссии и 18 с комиссией"
   ]
  },
  {
   "cell_type": "raw",
   "metadata": {},
   "source": [
    "Такой подход использует только данные о ценах инструментов на текущем тике.\n",
    "На каждом тике мы выбираем максимально профитные сделки, при этом просадки не возможны в принципе, \n",
    "мы либо зарабатываем, либо остаёмся на том же уровне.\n",
    "\n",
    "Список unused_limits хранит суммарные значения неиспользованных лимитов по всем инструментам в течении всех 10к тиков.\n",
    "Например дла data_3 (без комиссии) :\n",
    "    \n",
    "    Unused limits:  [5037.9897533530902, 1575.8599921151638, 3405.4032820705593, 3156.4217349766759, 3907.5242798264358, 1685.228280784926]\n",
    "    \n",
    "Видно, что чуть-ли не половина лимитов остаётся не задействованной, т.е. мы часто пропускаем возможность совершить сделку.\n",
    "Возникает закономерный вопрос - как бы нам эффективно \"доторговывать\" эти лимиты ?\n",
    "\n",
    "Понятно почему так происходит. Непотраченные лимиты соответсвуют тем сделкам которые на текущем тике были невыгодными.\n",
    "Однако, если бы мы могли эффективно предсказывать профитность сделок  на будущих тиках, то это в могло бы существенно всё изменить.\n",
    "Предположим, что на текущем тике у нас осталось некоторое количество лимитов по инструментам AB и BC, при этом сделку A -> B -> C -> D -> A  мы совершить не можем (т.к. не хватает лимита CD или это вообще не выгодная на текущес тике сделка). \n",
    "Но, пусть мы знаем, что на следующем тике это будет прибыльная сделка. \n",
    "Тогда логично было бы начинать совершать эту сделку на текущем тике (в предположении, что прибыль на следующем тике перекроет текущие убытки), т.е. её часть A -> B -> C. \n",
    "Тогда на следующем тике останется доторговать С -> D -> A, при этом сохраним лимиты AB и BC, которые можно будет портатить в других прибыльных сделках.\n",
    "\n",
    "Обобщая, если бы мы могли предсказывать выгодность сделок на несколько шагов вперёд, то могли бы торговать чаще и в среднем с большей прибылью. \n",
    "Но ,как я понял, по условю задачи будущее предсказывать (т.е. заглядывать на насколько тиков вперёд) мы не можем :)\n"
   ]
  },
  {
   "cell_type": "raw",
   "metadata": {},
   "source": [
    "Конечно, можно попытаться сделать какое-то разумное предположение.\n",
    "Например, допустим, что самая профитная на текущем шаге сделка будет достаточно профитной и на следующем (в предположении что за один тик курсы меняются слабо).\n",
    "Тогда можно пробовать начинать совершать эту сделку на остатках лимитов в текущем тике, с целью закончить её на следующем.\n",
    "Сильное предположение, которое, вообще говоря, ниоткуда не следует ))\n",
    "Но более разумных предположений у меня пока нет.\n",
    "\n",
    "Попробуем, что из этого получится."
   ]
  },
  {
   "cell_type": "code",
   "execution_count": 169,
   "metadata": {},
   "outputs": [
    {
     "name": "stdout",
     "output_type": "stream",
     "text": [
      "Final balance: \n",
      "45.28\n",
      "0.0\n",
      "0.0\n",
      "0.0\n",
      "Unused limits:  [4366.1955460973377, 1549.6310433093888, 2955.5207717813305, 3494.4591422958601, 3800.5531817552724, 1594.5020924444532]\n"
     ]
    }
   ],
   "source": [
    "# trading simulation v2 (no commission)\n",
    "\n",
    "#  добаляем функцию  make_future_deal\n",
    "#  она будет совершать часть сделки на текущем тике и возвращать информацию о том \n",
    "#  какую часть сделки и в каком объёме предполагается закончить на следующем тике\n",
    "\n",
    "def make_future_deal(deal_path, deal_volume):\n",
    "\n",
    "    p = np.copy(profit_table)\n",
    "\n",
    "    i = 0\n",
    "    V = deal_volume\n",
    "    while i < len(deal_path) - 1:\n",
    "        x = deal_path[i]\n",
    "        y = deal_path[i+1]\n",
    "        \n",
    "        V = min(V, limits_table[x, y])\n",
    "        limits_table[x, y] = limits_table[x, y] - V\n",
    "        limits_table[y, x] = limits_table[x, y] * prices_table[x, y] \n",
    "        profit_table[x] = profit_table[x] - V \n",
    "        V = V * prices_table[x, y]\n",
    "        profit_table[y] = profit_table[y] + V\n",
    "        i = i + 1\n",
    "        \n",
    "    d = np.subtract(profit_table , p)\n",
    "\n",
    "    future_deals_list = []\n",
    "    d = list(d)\n",
    "    for x in d:\n",
    "        if x > 0.0:\n",
    "            future_volume = x\n",
    "            future_path = deal_path[deal_path.index((d.index(x))) : ]\n",
    "            v = future_path, future_volume \n",
    "            future_deals_list.append(v)\n",
    "            \n",
    "    return future_deals_list\n",
    "\n",
    "# ещё одно \"улучшение\", которое практичесски ничего не меняет\n",
    "# продаём остатки валют B, C, D не просто по пути X -> A, а по оптимальному пути \n",
    "def optimal_sell(x):\n",
    "    deals_stack = []\n",
    "    \n",
    "    if x == 1:\n",
    "        # 1 - 0\n",
    "        p = 1 * prices_table[1, 0] \n",
    "        v = ([1, 0] , p)\n",
    "        deals_stack.append(v)\n",
    "        # 1 - 2 - 0\n",
    "        p = 1 * prices_table[1, 2] * prices_table[2, 0]\n",
    "        v = ([1, 2, 0] , p)\n",
    "        deals_stack.append(v)\n",
    "        # 1 - 3 - 0\n",
    "        p = 1 * prices_table[1, 3] * prices_table[3, 0]\n",
    "        v = ([1, 3, 0] , p)\n",
    "        deals_stack.append(v)\n",
    "        # 1 - 2 - 3 - 0\n",
    "        p = 1 * prices_table[1, 2] * prices_table[2, 3] * prices_table[3, 0]\n",
    "        v = ([1, 2, 3, 0] , p)\n",
    "        deals_stack.append(v)\n",
    "        # 1 - 3 - 2 - 0\n",
    "        p = 1 * prices_table[1, 3] * prices_table[3, 2] * prices_table[2, 0]\n",
    "        v = ([1, 3, 2, 0] , p)\n",
    "        deals_stack.append(v)\n",
    "    \n",
    "    elif x == 2:\n",
    "        # 2 - 0\n",
    "        p = 1 * prices_table[2, 0] \n",
    "        v = ([2, 0] , p)\n",
    "        deals_stack.append(v)\n",
    "        # 2 - 1 - 0\n",
    "        p = 1 * prices_table[2, 1] * prices_table[1, 0]\n",
    "        v = ([2, 1, 0] , p)\n",
    "        deals_stack.append(v)\n",
    "        # 2 - 3 - 0\n",
    "        p = 1 * prices_table[2, 3] * prices_table[3, 0]\n",
    "        v = ([2, 3, 0] , p)\n",
    "        deals_stack.append(v)\n",
    "        # 2 - 1 - 3 - 0\n",
    "        p = 1 * prices_table[2, 1] * prices_table[1, 3] * prices_table[3, 0]\n",
    "        v = ([2, 1, 3, 0] , p) \n",
    "        deals_stack.append(v)\n",
    "        # 2 - 3 - 1 - 0\n",
    "        p = 1 * prices_table[2, 3] * prices_table[3, 1] * prices_table[1, 0]\n",
    "        v =([2, 3, 1, 0] , p)\n",
    "        deals_stack.append(v)\n",
    "    \n",
    "    elif x == 3:\n",
    "        # 3 - 0\n",
    "        p = 1 * prices_table[3, 0] \n",
    "        v = ([3, 0] , p)\n",
    "        deals_stack.append(v)\n",
    "        # 3 - 1 - 0\n",
    "        p = 1 * prices_table[3, 1] * prices_table[1, 0]\n",
    "        v = ([3, 1, 0] , p)\n",
    "        deals_stack.append(v)\n",
    "        # 3 - 2 - 0\n",
    "        p = 1 * prices_table[3, 2] * prices_table[2, 0]\n",
    "        v = ([3, 2, 0] , p)\n",
    "        deals_stack.append(v)\n",
    "        # 3 - 1 - 2 - 0\n",
    "        p = 1 * prices_table[3, 1] * prices_table[1, 2] * prices_table[2, 0]\n",
    "        v = ([3, 1, 2, 0] , p)\n",
    "        deals_stack.append(v)\n",
    "        # 3 - 2 - 1 - 0\n",
    "        p = 1 * prices_table[3, 2] * prices_table[2, 1] * prices_table[1, 0]\n",
    "        v = ([3, 2, 1, 0] , p)\n",
    "        deals_stack.append(v)\n",
    "    \n",
    "    else:\n",
    "        return None\n",
    "    \n",
    "    deals_stack.sort(key=itemgetter(1))\n",
    "    \n",
    "    for path in deals_stack:\n",
    "        make_deal(path[0], profit_table[x])\n",
    "\n",
    "# если сделка в итоге окажется отрицательной, нужно будет это компенсировать\n",
    "# покупкой A -> X\n",
    "def buy(x):\n",
    "        make_deal([0, x], abs(profit_table[x])*prices_table[x, 0])\n",
    "\n",
    "prices_table = np.zeros((4,4))\n",
    "limits_table = np.zeros((4,4))\n",
    "profit_table = np.zeros(4)\n",
    "\n",
    "deals_stack = []\n",
    "\n",
    "unused_limits = [0, 0, 0, 0, 0, 0]\n",
    "A = []\n",
    "t = 0\n",
    "while (t < 10000 ):\n",
    "    \n",
    "    set_prices_limits()\n",
    "    reset_profit_table()\n",
    "    calc_profit_table()\n",
    "    best = best_deal()\n",
    "    \n",
    "    if profit_deals[best][1] > 0.0:\n",
    "        top_deal = list(best)\n",
    "        top_deal_volume = profit_deals[best][0]\n",
    "    \n",
    "    for d in deals_stack:\n",
    "        make_deal(d[0], d[1])\n",
    "    \n",
    "    for x in range(1,4):\n",
    "        if profit_table[x] < 0.0:\n",
    "            buy(x)\n",
    "    \n",
    "    for x in range(1,4):\n",
    "        if profit_table[x] > 0.0:\n",
    "            optimal_sell(x)\n",
    "            \n",
    "    reset_profit_table()\n",
    "    calc_profit_table()\n",
    "    best = best_deal()   \n",
    "    while best != None:\n",
    "        make_deal(best, profit_deals[best][0])\n",
    "        reset_profit_table()\n",
    "        calc_profit_table()\n",
    "        best = best_deal()\n",
    "    \n",
    "    deals_stack = make_future_deal(top_deal, top_deal_volume)\n",
    "       \n",
    "    A.append(profit_table[0])\n",
    "    \n",
    " \n",
    "    unused_limits[0] = unused_limits[0] + limits_table[0,1]\n",
    "    unused_limits[1] = unused_limits[1] + limits_table[0,2]\n",
    "    unused_limits[2] = unused_limits[2] + limits_table[0,3]\n",
    "    unused_limits[3] = unused_limits[3] + limits_table[1,2]\n",
    "    unused_limits[4] = unused_limits[4] + limits_table[1,3]\n",
    "    unused_limits[5] = unused_limits[5] + limits_table[2,3]\n",
    "    \n",
    "    t = t + 1\n",
    "    \n",
    "print(\"Final balance: \")\n",
    "print(round(profit_table[0], 2))\n",
    "print(round(profit_table[1], 2))\n",
    "print(round(profit_table[2], 2))\n",
    "print(round(profit_table[3], 2))\n",
    "print(\"Unused limits: \", unused_limits)"
   ]
  },
  {
   "cell_type": "code",
   "execution_count": 165,
   "metadata": {},
   "outputs": [
    {
     "data": {
      "image/png": "[encoded data removed]",
      "text/plain": [
       "<matplotlib.figure.Figure at 0x17c7daaab70>"
      ]
     },
     "metadata": {},
     "output_type": "display_data"
    }
   ],
   "source": [
    "plt.plot(range(10000), A[0:10000], color = 'red')\n",
    "plt.show()"
   ]
  },
  {
   "cell_type": "raw",
   "metadata": {},
   "source": [
    "Для data_1(на графике) результат практически не изменился - профит 52 А. Для data_2 и data_3 профиты заметно упали -  до 55 и 45 соответсвенно.\n",
    "\n",
    "Впринципе это было ожидаемо. \n",
    "Предположение, сделанное выше, оказалось не размуным :)\n",
    "Не имея возможности надёжно предсказывать прибыльность сделок на будущем тике, вряд ли можно улучшить результаты полученные путём выбора оптимальных сделок.\n",
    "\n",
    "Таким образом, лучшие результаты полученные в рамках выбранного подхода такие:"
   ]
  },
  {
   "cell_type": "markdown",
   "metadata": {},
   "source": [
    "на данных data1 - 53 без комиссии и 19 с комиссией;\n",
    "на данных data2 - 71 без комиссии и 25 с комиссией;\n",
    "на данных data3 - 53 без комиссии и 18 с комиссией;"
   ]
  },
  {
   "cell_type": "code",
   "execution_count": null,
   "metadata": {
    "collapsed": true
   },
   "outputs": [],
   "source": []
  }
 ],
 "metadata": {
  "kernelspec": {
   "display_name": "Python 3",
   "language": "python",
   "name": "python3"
  },
  "language_info": {
   "codemirror_mode": {
    "name": "ipython",
    "version": 3
   },
   "file_extension": ".py",
   "mimetype": "text/x-python",
   "name": "python",
   "nbconvert_exporter": "python",
   "pygments_lexer": "ipython3",
   "version": "3.6.1"
  }
 },
 "nbformat": 4,
 "nbformat_minor": 2
}
